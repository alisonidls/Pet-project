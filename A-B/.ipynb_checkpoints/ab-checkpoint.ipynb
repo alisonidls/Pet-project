{
 "cells": [
  {
   "cell_type": "code",
   "execution_count": 50,
   "id": "6e663f67",
   "metadata": {},
   "outputs": [],
   "source": [
    "import pandas as pd\n",
    "import numpy as np\n",
    "from scipy.stats import shapiro, mannwhitneyu, norm\n",
    "\n",
    "import bootstrapped.bootstrap as bs\n",
    "import bootstrapped.compare_functions as bs_compare\n",
    "import bootstrapped.stats_functions as bs_stats\n",
    "\n",
    "import seaborn as sns\n",
    "from matplotlib import pyplot as plt"
   ]
  },
  {
   "cell_type": "code",
   "execution_count": 13,
   "id": "08b0ef60",
   "metadata": {},
   "outputs": [],
   "source": [
    "groups = pd.read_csv('groups.csv', sep = ';')\n",
    "active_studs = pd.read_csv('active_studs.csv')\n",
    "checks = pd.read_csv('checks.csv', sep = ';')"
   ]
  },
  {
   "cell_type": "markdown",
   "id": "96bee8ab",
   "metadata": {},
   "source": [
    "    groups.csv : файл с информацией о принадлежности пользователя к контрольной или экспериментальной группе (А – контроль, B – целевая группа)\n",
    "    active_studs.csv : файл с информацией о пользователях, которые зашли на платформу в дни проведения эксперимента.\n",
    "    checks.csv : файл с информацией об оплатах пользователей в дни проведения эксперимента."
   ]
  },
  {
   "cell_type": "code",
   "execution_count": 14,
   "id": "2aa271de",
   "metadata": {},
   "outputs": [
    {
     "data": {
      "text/html": [
       "<div>\n",
       "<style scoped>\n",
       "    .dataframe tbody tr th:only-of-type {\n",
       "        vertical-align: middle;\n",
       "    }\n",
       "\n",
       "    .dataframe tbody tr th {\n",
       "        vertical-align: top;\n",
       "    }\n",
       "\n",
       "    .dataframe thead th {\n",
       "        text-align: right;\n",
       "    }\n",
       "</style>\n",
       "<table border=\"1\" class=\"dataframe\">\n",
       "  <thead>\n",
       "    <tr style=\"text-align: right;\">\n",
       "      <th></th>\n",
       "      <th>id</th>\n",
       "      <th>grp</th>\n",
       "    </tr>\n",
       "  </thead>\n",
       "  <tbody>\n",
       "    <tr>\n",
       "      <th>0</th>\n",
       "      <td>1206794</td>\n",
       "      <td>B</td>\n",
       "    </tr>\n",
       "    <tr>\n",
       "      <th>1</th>\n",
       "      <td>331024</td>\n",
       "      <td>B</td>\n",
       "    </tr>\n",
       "    <tr>\n",
       "      <th>2</th>\n",
       "      <td>1733498</td>\n",
       "      <td>A</td>\n",
       "    </tr>\n",
       "    <tr>\n",
       "      <th>3</th>\n",
       "      <td>161574</td>\n",
       "      <td>B</td>\n",
       "    </tr>\n",
       "    <tr>\n",
       "      <th>4</th>\n",
       "      <td>168443</td>\n",
       "      <td>B</td>\n",
       "    </tr>\n",
       "  </tbody>\n",
       "</table>\n",
       "</div>"
      ],
      "text/plain": [
       "        id grp\n",
       "0  1206794   B\n",
       "1   331024   B\n",
       "2  1733498   A\n",
       "3   161574   B\n",
       "4   168443   B"
      ]
     },
     "execution_count": 14,
     "metadata": {},
     "output_type": "execute_result"
    }
   ],
   "source": [
    "groups.head()"
   ]
  },
  {
   "cell_type": "code",
   "execution_count": 9,
   "id": "5526554c",
   "metadata": {},
   "outputs": [
    {
     "data": {
      "text/html": [
       "<div>\n",
       "<style scoped>\n",
       "    .dataframe tbody tr th:only-of-type {\n",
       "        vertical-align: middle;\n",
       "    }\n",
       "\n",
       "    .dataframe tbody tr th {\n",
       "        vertical-align: top;\n",
       "    }\n",
       "\n",
       "    .dataframe thead th {\n",
       "        text-align: right;\n",
       "    }\n",
       "</style>\n",
       "<table border=\"1\" class=\"dataframe\">\n",
       "  <thead>\n",
       "    <tr style=\"text-align: right;\">\n",
       "      <th></th>\n",
       "      <th>student_id</th>\n",
       "    </tr>\n",
       "  </thead>\n",
       "  <tbody>\n",
       "    <tr>\n",
       "      <th>0</th>\n",
       "      <td>581585</td>\n",
       "    </tr>\n",
       "    <tr>\n",
       "      <th>1</th>\n",
       "      <td>5723133</td>\n",
       "    </tr>\n",
       "    <tr>\n",
       "      <th>2</th>\n",
       "      <td>3276743</td>\n",
       "    </tr>\n",
       "    <tr>\n",
       "      <th>3</th>\n",
       "      <td>4238589</td>\n",
       "    </tr>\n",
       "    <tr>\n",
       "      <th>4</th>\n",
       "      <td>4475369</td>\n",
       "    </tr>\n",
       "  </tbody>\n",
       "</table>\n",
       "</div>"
      ],
      "text/plain": [
       "   student_id\n",
       "0      581585\n",
       "1     5723133\n",
       "2     3276743\n",
       "3     4238589\n",
       "4     4475369"
      ]
     },
     "execution_count": 9,
     "metadata": {},
     "output_type": "execute_result"
    }
   ],
   "source": [
    "active_studs.head()"
   ]
  },
  {
   "cell_type": "code",
   "execution_count": 12,
   "id": "f56faca1",
   "metadata": {},
   "outputs": [
    {
     "data": {
      "text/html": [
       "<div>\n",
       "<style scoped>\n",
       "    .dataframe tbody tr th:only-of-type {\n",
       "        vertical-align: middle;\n",
       "    }\n",
       "\n",
       "    .dataframe tbody tr th {\n",
       "        vertical-align: top;\n",
       "    }\n",
       "\n",
       "    .dataframe thead th {\n",
       "        text-align: right;\n",
       "    }\n",
       "</style>\n",
       "<table border=\"1\" class=\"dataframe\">\n",
       "  <thead>\n",
       "    <tr style=\"text-align: right;\">\n",
       "      <th></th>\n",
       "      <th>student_id</th>\n",
       "      <th>rev</th>\n",
       "    </tr>\n",
       "  </thead>\n",
       "  <tbody>\n",
       "    <tr>\n",
       "      <th>0</th>\n",
       "      <td>1627</td>\n",
       "      <td>990.0</td>\n",
       "    </tr>\n",
       "    <tr>\n",
       "      <th>1</th>\n",
       "      <td>3185</td>\n",
       "      <td>690.0</td>\n",
       "    </tr>\n",
       "    <tr>\n",
       "      <th>2</th>\n",
       "      <td>25973</td>\n",
       "      <td>690.0</td>\n",
       "    </tr>\n",
       "    <tr>\n",
       "      <th>3</th>\n",
       "      <td>26280</td>\n",
       "      <td>690.0</td>\n",
       "    </tr>\n",
       "    <tr>\n",
       "      <th>4</th>\n",
       "      <td>100300</td>\n",
       "      <td>990.0</td>\n",
       "    </tr>\n",
       "  </tbody>\n",
       "</table>\n",
       "</div>"
      ],
      "text/plain": [
       "   student_id    rev\n",
       "0        1627  990.0\n",
       "1        3185  690.0\n",
       "2       25973  690.0\n",
       "3       26280  690.0\n",
       "4      100300  990.0"
      ]
     },
     "execution_count": 12,
     "metadata": {},
     "output_type": "execute_result"
    }
   ],
   "source": [
    "checks.head()"
   ]
  },
  {
   "cell_type": "code",
   "execution_count": 18,
   "id": "631b1a6b",
   "metadata": {},
   "outputs": [
    {
     "data": {
      "text/plain": [
       "(74576, 8341, 541)"
      ]
     },
     "execution_count": 18,
     "metadata": {},
     "output_type": "execute_result"
    }
   ],
   "source": [
    "groups.shape[0],active_studs.shape[0],checks.shape[0]"
   ]
  },
  {
   "cell_type": "code",
   "execution_count": 19,
   "id": "9f84558b",
   "metadata": {},
   "outputs": [
    {
     "data": {
      "text/plain": [
       "id     0\n",
       "grp    0\n",
       "dtype: int64"
      ]
     },
     "execution_count": 19,
     "metadata": {},
     "output_type": "execute_result"
    }
   ],
   "source": [
    "groups.isna().sum()"
   ]
  },
  {
   "cell_type": "code",
   "execution_count": 20,
   "id": "cce04c04",
   "metadata": {},
   "outputs": [
    {
     "data": {
      "text/plain": [
       "student_id    0\n",
       "dtype: int64"
      ]
     },
     "execution_count": 20,
     "metadata": {},
     "output_type": "execute_result"
    }
   ],
   "source": [
    "active_studs.isna().sum()"
   ]
  },
  {
   "cell_type": "code",
   "execution_count": 21,
   "id": "04037c50",
   "metadata": {},
   "outputs": [
    {
     "data": {
      "text/plain": [
       "student_id    0\n",
       "rev           0\n",
       "dtype: int64"
      ]
     },
     "execution_count": 21,
     "metadata": {},
     "output_type": "execute_result"
    }
   ],
   "source": [
    "checks.isna().sum()"
   ]
  },
  {
   "cell_type": "code",
   "execution_count": 22,
   "id": "0fb4b83f",
   "metadata": {},
   "outputs": [],
   "source": [
    "groups.rename(columns={\"id\": \"student_id\"}, inplace=True)"
   ]
  },
  {
   "cell_type": "markdown",
   "id": "8e4fe307",
   "metadata": {},
   "source": [
    "    В датафрейме active_studs находятся студенты, которые заходили в приложение во время эксперимента;\n",
    "    В датафрейме groups находятся студенты, которые были распределены на тестовую и контрольную группы во время эксперимента;\n",
    "    В датафрейме active_studs находятся студенты, которые оплатили что-то во время эксперимента в приложение."
   ]
  },
  {
   "cell_type": "code",
   "execution_count": 23,
   "id": "ec364ca2",
   "metadata": {},
   "outputs": [
    {
     "data": {
      "text/html": [
       "<div>\n",
       "<style scoped>\n",
       "    .dataframe tbody tr th:only-of-type {\n",
       "        vertical-align: middle;\n",
       "    }\n",
       "\n",
       "    .dataframe tbody tr th {\n",
       "        vertical-align: top;\n",
       "    }\n",
       "\n",
       "    .dataframe thead th {\n",
       "        text-align: right;\n",
       "    }\n",
       "</style>\n",
       "<table border=\"1\" class=\"dataframe\">\n",
       "  <thead>\n",
       "    <tr style=\"text-align: right;\">\n",
       "      <th></th>\n",
       "      <th>student_id</th>\n",
       "      <th>grp</th>\n",
       "    </tr>\n",
       "  </thead>\n",
       "  <tbody>\n",
       "    <tr>\n",
       "      <th>0</th>\n",
       "      <td>946259</td>\n",
       "      <td>B</td>\n",
       "    </tr>\n",
       "    <tr>\n",
       "      <th>1</th>\n",
       "      <td>1896859</td>\n",
       "      <td>B</td>\n",
       "    </tr>\n",
       "    <tr>\n",
       "      <th>2</th>\n",
       "      <td>938570</td>\n",
       "      <td>A</td>\n",
       "    </tr>\n",
       "    <tr>\n",
       "      <th>3</th>\n",
       "      <td>4808409</td>\n",
       "      <td>B</td>\n",
       "    </tr>\n",
       "    <tr>\n",
       "      <th>4</th>\n",
       "      <td>3242161</td>\n",
       "      <td>B</td>\n",
       "    </tr>\n",
       "    <tr>\n",
       "      <th>...</th>\n",
       "      <td>...</td>\n",
       "      <td>...</td>\n",
       "    </tr>\n",
       "    <tr>\n",
       "      <th>8336</th>\n",
       "      <td>1524221</td>\n",
       "      <td>B</td>\n",
       "    </tr>\n",
       "    <tr>\n",
       "      <th>8337</th>\n",
       "      <td>1302888</td>\n",
       "      <td>A</td>\n",
       "    </tr>\n",
       "    <tr>\n",
       "      <th>8338</th>\n",
       "      <td>1778339</td>\n",
       "      <td>B</td>\n",
       "    </tr>\n",
       "    <tr>\n",
       "      <th>8339</th>\n",
       "      <td>1138474</td>\n",
       "      <td>A</td>\n",
       "    </tr>\n",
       "    <tr>\n",
       "      <th>8340</th>\n",
       "      <td>1210532</td>\n",
       "      <td>B</td>\n",
       "    </tr>\n",
       "  </tbody>\n",
       "</table>\n",
       "<p>8341 rows × 2 columns</p>\n",
       "</div>"
      ],
      "text/plain": [
       "      student_id grp\n",
       "0         946259   B\n",
       "1        1896859   B\n",
       "2         938570   A\n",
       "3        4808409   B\n",
       "4        3242161   B\n",
       "...          ...  ..\n",
       "8336     1524221   B\n",
       "8337     1302888   A\n",
       "8338     1778339   B\n",
       "8339     1138474   A\n",
       "8340     1210532   B\n",
       "\n",
       "[8341 rows x 2 columns]"
      ]
     },
     "execution_count": 23,
     "metadata": {},
     "output_type": "execute_result"
    }
   ],
   "source": [
    "groups.merge(active_studs)"
   ]
  },
  {
   "cell_type": "code",
   "execution_count": 24,
   "id": "340821f0",
   "metadata": {},
   "outputs": [
    {
     "data": {
      "text/html": [
       "<div>\n",
       "<style scoped>\n",
       "    .dataframe tbody tr th:only-of-type {\n",
       "        vertical-align: middle;\n",
       "    }\n",
       "\n",
       "    .dataframe tbody tr th {\n",
       "        vertical-align: top;\n",
       "    }\n",
       "\n",
       "    .dataframe thead th {\n",
       "        text-align: right;\n",
       "    }\n",
       "</style>\n",
       "<table border=\"1\" class=\"dataframe\">\n",
       "  <thead>\n",
       "    <tr style=\"text-align: right;\">\n",
       "      <th></th>\n",
       "      <th>student_id</th>\n",
       "      <th>rev</th>\n",
       "    </tr>\n",
       "  </thead>\n",
       "  <tbody>\n",
       "    <tr>\n",
       "      <th>0</th>\n",
       "      <td>1184303</td>\n",
       "      <td>1530.0000</td>\n",
       "    </tr>\n",
       "    <tr>\n",
       "      <th>1</th>\n",
       "      <td>3354191</td>\n",
       "      <td>1900.0001</td>\n",
       "    </tr>\n",
       "    <tr>\n",
       "      <th>2</th>\n",
       "      <td>3278734</td>\n",
       "      <td>1900.0000</td>\n",
       "    </tr>\n",
       "    <tr>\n",
       "      <th>3</th>\n",
       "      <td>720651</td>\n",
       "      <td>1980.0000</td>\n",
       "    </tr>\n",
       "    <tr>\n",
       "      <th>4</th>\n",
       "      <td>1232221</td>\n",
       "      <td>1900.0000</td>\n",
       "    </tr>\n",
       "    <tr>\n",
       "      <th>...</th>\n",
       "      <td>...</td>\n",
       "      <td>...</td>\n",
       "    </tr>\n",
       "    <tr>\n",
       "      <th>387</th>\n",
       "      <td>3890326</td>\n",
       "      <td>199.0000</td>\n",
       "    </tr>\n",
       "    <tr>\n",
       "      <th>388</th>\n",
       "      <td>1390994</td>\n",
       "      <td>398.0000</td>\n",
       "    </tr>\n",
       "    <tr>\n",
       "      <th>389</th>\n",
       "      <td>1516339</td>\n",
       "      <td>290.0000</td>\n",
       "    </tr>\n",
       "    <tr>\n",
       "      <th>390</th>\n",
       "      <td>3910596</td>\n",
       "      <td>597.0000</td>\n",
       "    </tr>\n",
       "    <tr>\n",
       "      <th>391</th>\n",
       "      <td>3610547</td>\n",
       "      <td>290.0000</td>\n",
       "    </tr>\n",
       "  </tbody>\n",
       "</table>\n",
       "<p>392 rows × 2 columns</p>\n",
       "</div>"
      ],
      "text/plain": [
       "     student_id        rev\n",
       "0       1184303  1530.0000\n",
       "1       3354191  1900.0001\n",
       "2       3278734  1900.0000\n",
       "3        720651  1980.0000\n",
       "4       1232221  1900.0000\n",
       "..          ...        ...\n",
       "387     3890326   199.0000\n",
       "388     1390994   398.0000\n",
       "389     1516339   290.0000\n",
       "390     3910596   597.0000\n",
       "391     3610547   290.0000\n",
       "\n",
       "[392 rows x 2 columns]"
      ]
     },
     "execution_count": 24,
     "metadata": {},
     "output_type": "execute_result"
    }
   ],
   "source": [
    "active_studs.merge(checks)"
   ]
  },
  {
   "cell_type": "markdown",
   "id": "5ad37c15",
   "metadata": {},
   "source": [
    "    Cтрок стало явно меньше и причин здесь может быть несколько:\n",
    "\n",
    "    У пользователей, которые не были занесены ни в какую группу, были списаны деньги за подписку на нашем сервисе;\n",
    "    У пользователей, которые не были занесены ни в какую группу, были списаны деньги за услуги, оплата произошла позже."
   ]
  },
  {
   "cell_type": "code",
   "execution_count": 25,
   "id": "5b505b64",
   "metadata": {},
   "outputs": [
    {
     "data": {
      "text/html": [
       "<div>\n",
       "<style scoped>\n",
       "    .dataframe tbody tr th:only-of-type {\n",
       "        vertical-align: middle;\n",
       "    }\n",
       "\n",
       "    .dataframe tbody tr th {\n",
       "        vertical-align: top;\n",
       "    }\n",
       "\n",
       "    .dataframe thead th {\n",
       "        text-align: right;\n",
       "    }\n",
       "</style>\n",
       "<table border=\"1\" class=\"dataframe\">\n",
       "  <thead>\n",
       "    <tr style=\"text-align: right;\">\n",
       "      <th></th>\n",
       "      <th>student_id</th>\n",
       "      <th>rev</th>\n",
       "      <th>grp</th>\n",
       "    </tr>\n",
       "  </thead>\n",
       "  <tbody>\n",
       "    <tr>\n",
       "      <th>0</th>\n",
       "      <td>1184303</td>\n",
       "      <td>1530.0000</td>\n",
       "      <td>A</td>\n",
       "    </tr>\n",
       "    <tr>\n",
       "      <th>1</th>\n",
       "      <td>3354191</td>\n",
       "      <td>1900.0001</td>\n",
       "      <td>B</td>\n",
       "    </tr>\n",
       "    <tr>\n",
       "      <th>2</th>\n",
       "      <td>3278734</td>\n",
       "      <td>1900.0000</td>\n",
       "      <td>B</td>\n",
       "    </tr>\n",
       "    <tr>\n",
       "      <th>3</th>\n",
       "      <td>720651</td>\n",
       "      <td>1980.0000</td>\n",
       "      <td>A</td>\n",
       "    </tr>\n",
       "    <tr>\n",
       "      <th>4</th>\n",
       "      <td>1232221</td>\n",
       "      <td>1900.0000</td>\n",
       "      <td>B</td>\n",
       "    </tr>\n",
       "  </tbody>\n",
       "</table>\n",
       "</div>"
      ],
      "text/plain": [
       "   student_id        rev grp\n",
       "0     1184303  1530.0000   A\n",
       "1     3354191  1900.0001   B\n",
       "2     3278734  1900.0000   B\n",
       "3      720651  1980.0000   A\n",
       "4     1232221  1900.0000   B"
      ]
     },
     "execution_count": 25,
     "metadata": {},
     "output_type": "execute_result"
    }
   ],
   "source": [
    "real_students = active_studs.merge(checks)\n",
    "real_students = real_students.merge(groups)\n",
    "real_students.head()"
   ]
  },
  {
   "cell_type": "code",
   "execution_count": 29,
   "id": "e0bd421b",
   "metadata": {},
   "outputs": [
    {
     "data": {
      "text/plain": [
       "78"
      ]
     },
     "execution_count": 29,
     "metadata": {},
     "output_type": "execute_result"
    }
   ],
   "source": [
    "real_students.query(\"grp == 'A'\").shape[0]"
   ]
  },
  {
   "cell_type": "code",
   "execution_count": 28,
   "id": "213b1007",
   "metadata": {},
   "outputs": [
    {
     "data": {
      "text/plain": [
       "314"
      ]
     },
     "execution_count": 28,
     "metadata": {},
     "output_type": "execute_result"
    }
   ],
   "source": [
    "real_students.query(\"grp == 'B'\").shape[0]"
   ]
  },
  {
   "cell_type": "code",
   "execution_count": 30,
   "id": "54209452",
   "metadata": {},
   "outputs": [
    {
     "data": {
      "text/plain": [
       "24.840764331210192"
      ]
     },
     "execution_count": 30,
     "metadata": {},
     "output_type": "execute_result"
    }
   ],
   "source": [
    "(78 / 314) * 100"
   ]
  },
  {
   "cell_type": "code",
   "execution_count": 52,
   "id": "897dd4c7",
   "metadata": {},
   "outputs": [
    {
     "data": {
      "image/png": "[encoded data removed]",
      "text/plain": [
       "<Figure size 864x576 with 1 Axes>"
      ]
     },
     "metadata": {
      "needs_background": "light"
     },
     "output_type": "display_data"
    }
   ],
   "source": [
    "plt.figure(figsize=(12, 8))\n",
    "sns.histplot(real_students.query(\"grp == 'A'\").rev)\n",
    "sns.despine()"
   ]
  },
  {
   "cell_type": "code",
   "execution_count": 53,
   "id": "b1a53398",
   "metadata": {},
   "outputs": [
    {
     "data": {
      "image/png": "[encoded data removed]",
      "text/plain": [
       "<Figure size 864x576 with 1 Axes>"
      ]
     },
     "metadata": {
      "needs_background": "light"
     },
     "output_type": "display_data"
    }
   ],
   "source": [
    "plt.figure(figsize=(12, 8))\n",
    "sns.histplot(real_students.query(\"grp == 'B'\").rev)\n",
    "sns.despine()"
   ]
  },
  {
   "cell_type": "code",
   "execution_count": 38,
   "id": "1e7ebe6b",
   "metadata": {},
   "outputs": [
    {
     "name": "stdout",
     "output_type": "stream",
     "text": [
      "ShapiroResult(statistic=0.7353236079216003, pvalue=1.4986822893803264e-10)\n",
      "ShapiroResult(statistic=0.8547235727310181, pvalue=1.5437024585965894e-16)\n"
     ]
    }
   ],
   "source": [
    "print(shapiro(real_students.query(\"grp == 'A'\").rev), shapiro(real_students.query(\"grp == 'B'\").rev), sep=\"\\n\")"
   ]
  },
  {
   "cell_type": "markdown",
   "id": "800ff5f1",
   "metadata": {},
   "source": [
    "И по графикам и при помощи теста можно подтвердить, что распределения явно ненормальные."
   ]
  },
  {
   "cell_type": "code",
   "execution_count": 39,
   "id": "3ae3bea2",
   "metadata": {},
   "outputs": [],
   "source": [
    "a_group = real_students.query(\"grp == 'A'\")\n",
    "b_group = real_students.query(\"grp == 'B'\")"
   ]
  },
  {
   "cell_type": "code",
   "execution_count": 40,
   "id": "352f7731",
   "metadata": {},
   "outputs": [
    {
     "data": {
      "text/plain": [
       "MannwhitneyuResult(statistic=9001.0, pvalue=0.0002511393831406922)"
      ]
     },
     "execution_count": 40,
     "metadata": {},
     "output_type": "execute_result"
    }
   ],
   "source": [
    "mannwhitneyu(a_group.rev, b_group.rev)"
   ]
  },
  {
   "cell_type": "markdown",
   "id": "94591b65",
   "metadata": {},
   "source": [
    "Разница все таки есть, а теперь проверим гипотезу о медианном значении в чеке в разных группах и таким образом H0 - медианное значения в группах равны:"
   ]
  },
  {
   "cell_type": "code",
   "execution_count": 41,
   "id": "bea32743",
   "metadata": {},
   "outputs": [
    {
     "name": "stdout",
     "output_type": "stream",
     "text": [
      "585.0\n",
      "1140.0\n"
     ]
    }
   ],
   "source": [
    "print(a_group.rev.median(), b_group.rev.median(), sep=\"\\n\")"
   ]
  },
  {
   "cell_type": "code",
   "execution_count": 47,
   "id": "2d9103ab",
   "metadata": {},
   "outputs": [],
   "source": [
    "a_group_rev = np.array(a_group.rev)\n",
    "b_group_rev = np.array(b_group.rev)"
   ]
  },
  {
   "cell_type": "code",
   "execution_count": 48,
   "id": "a608a566",
   "metadata": {},
   "outputs": [
    {
     "name": "stdout",
     "output_type": "stream",
     "text": [
      "-48.68421052631579    (-64.47368421052632, -25.5)\n"
     ]
    }
   ],
   "source": [
    "print(bs.bootstrap_ab(a_group_rev, b_group_rev, bs_stats.median, bs_compare.percent_change))"
   ]
  },
  {
   "cell_type": "markdown",
   "id": "658e5e65",
   "metadata": {},
   "source": [
    "Доверительный интервал не захватывает 0 и поэтому можно считать, что следует отклонить H0"
   ]
  },
  {
   "cell_type": "markdown",
   "id": "24b613b0",
   "metadata": {},
   "source": [
    "   ## ВЫВОД\n",
    "    В ходе эксперимента было выявлено, что разница в группах на основе ниже приведенных выводов:\n",
    "\n",
    "    Разницу между распределениями в 2 группах есть, что показал первый анализ;\n",
    "    Разницу медианных значений в двух группах есть и в тестовой группе это значение больше, что показал 2 анализ.\n",
    "    На основе исследований, я бы ввел в наше приложение фичу, которая была в тестовой группе.\n"
   ]
  }
 ],
 "metadata": {
  "kernelspec": {
   "display_name": "Python 3 (ipykernel)",
   "language": "python",
   "name": "python3"
  },
  "language_info": {
   "codemirror_mode": {
    "name": "ipython",
    "version": 3
   },
   "file_extension": ".py",
   "mimetype": "text/x-python",
   "name": "python",
   "nbconvert_exporter": "python",
   "pygments_lexer": "ipython3",
   "version": "3.9.12"
  }
 },
 "nbformat": 4,
 "nbformat_minor": 5
}
